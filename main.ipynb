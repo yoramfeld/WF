{
  "nbformat": 4,
  "nbformat_minor": 0,
  "metadata": {
    "colab": {
      "provenance": []
    },
    "kernelspec": {
      "name": "python3",
      "display_name": "Python 3"
    },
    "language_info": {
      "name": "python"
    }
  },
  "cells": [
    {
      "cell_type": "code",
      "execution_count": null,
      "metadata": {
        "id": "aPFprjGci3u-"
      },
      "outputs": [],
      "source": [
        "import requests\n",
        "from datetime import datetime, timedelta\n",
        "api_key='7f0804cb4aab571b1c8921f4d82e1815' #api key for open weather map site\n",
        "show_line=0 #to handle multi appearnces of a city\n",
        "city_name=input(\"Enter city name: \") #e.g. 'Birmingham' #'Saint Petersburg' #'Jerusalem' #London\n",
        "if city_name:\n",
        "    location=requests.get('http://api.openweathermap.org/geo/1.0/direct?q='+city_name+'&limit=50&appid='+api_key)\n",
        "    #print (location.json())\n",
        "    #print ('base',location.json()['base'])\n",
        "    no_of_cities_in_that_name = len(location.json()) #allow handling multi appearances\n",
        "    if no_of_cities_in_that_name==0: #empty response\n",
        "      print (\"City not found\")\n",
        "    else:\n",
        "      #print (location.json())  for debugging\n",
        "      if no_of_cities_in_that_name > 1: #allow choosing one of a list\n",
        "        print (f\"\\nIdentified {no_of_cities_in_that_name} cities under {city_name}\")\n",
        "        for num in range (len(location.json())):\n",
        "          current=location.json()[num]\n",
        "          state = '' if not 'state' in current else current['state'] # Protect from no state. e.g. several Hiroshima instances have no state\n",
        "          print (f\"{num+1}. {state} ({current['country']}) at {current['lon']} & {current['lat']}\") #list the multi cities\n",
        "\n",
        "        while True:\n",
        "          inp_str=(f\"Pick between 1 and {len(location.json())}:\")\n",
        "          line_no=int(input (inp_str)) #ask to pick one from the list\n",
        "          if 0 < line_no <= len(location.json()): #protect from illegal entered values\n",
        "            break\n",
        "        show_line=int(line_no)-1 #mark the list element to show\n",
        "\n",
        "      current=location.json()[show_line]\n",
        "      state = '' if not 'state' in current else current['state'] # Protect from no state. e.g. several Hiroshima instances have no state\n",
        "      print (f\"\\n{city_name} of {state} ({current['country']}) is at {current['lon']} & {current['lat']}\")\n",
        "      w=requests.get('https://api.openweathermap.org/data/2.5/weather?lat='+str(current['lat'])+'&lon='+str(current['lon'])+'&units=metric'+'&appid='+api_key) #read weather info\n",
        "      main=w.json()['main']\n",
        "      #print (w.json())\n",
        "      weather=w.json()['weather'][0]\n",
        "      print (f\"and currently has {main['temp']} degC and {main['humidity']}% humidity with {weather['description']}\")\n",
        "\n",
        "      seconds_from_utc=w.json()['timezone']  #the remote location seconds from UTC, received from the API response\n",
        "      utcnow=datetime.utcnow()\n",
        "      remote_time=utcnow+timedelta(seconds=seconds_from_utc)\n",
        "      print ('The local time over there is',remote_time.strftime(\"%H:%M\"),\"on\",remote_time.strftime(\"%d/%m\"),end=' ')\n",
        "      print (\"while you are at\",datetime.now().strftime(\"%H:%M\"),\"on\",datetime.now().strftime(\"%d/%m\")) #print the local time and date"
      ]
    }
  ]
}